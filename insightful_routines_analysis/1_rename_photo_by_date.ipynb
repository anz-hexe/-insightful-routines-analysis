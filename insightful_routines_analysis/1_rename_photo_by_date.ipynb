{
 "cells": [
  {
   "cell_type": "code",
   "execution_count": null,
   "metadata": {},
   "outputs": [],
   "source": [
    "import os\n",
    "import exifread\n",
    "\n",
    "from config import PHOTO_FOLDER_PATH\n",
    "\n",
    "def rename_files_with_metadata(folder_path):\n",
    "    # Get a list of all files in the folder\n",
    "    files = os.listdir(folder_path)\n",
    "    \n",
    "    for filename in files:\n",
    "        filepath = os.path.join(folder_path, filename)\n",
    "        \n",
    "        # Check if the file is an image (you may need to adjust this condition based on the types of images you have)\n",
    "        if filename.lower().endswith(('.jpg', '.jpeg', '.png', '.gif')):\n",
    "            with open(filepath, 'rb') as image_file:\n",
    "                tags = exifread.process_file(image_file)\n",
    "                \n",
    "                # Check if the image has a 'DateTimeOriginal' tag\n",
    "                if 'EXIF DateTimeOriginal' in tags:\n",
    "                    # Get the value of the 'DateTimeOriginal' tag\n",
    "                    original_date = str(tags['EXIF DateTimeOriginal'])\n",
    "                    \n",
    "                    # Construct a new filename based on the 'DateTimeOriginal' metadata\n",
    "                    new_filename = original_date.replace(':', '').replace(' ', '_') + os.path.splitext(filename)[1]\n",
    "                    \n",
    "                    # Rename the file\n",
    "                    os.rename(filepath, os.path.join(folder_path, new_filename))\n",
    "                    print(f\"Renamed '{filename}' to '{new_filename}'\")\n",
    "                else:\n",
    "                    print(f\"Skipping '{filename}' as it doesn't have 'DateTimeOriginal' metadata.\")\n",
    "        else:\n",
    "            print(f\"Skipping '{filename}' as it's not an image file.\")\n",
    "\n",
    "\n",
    "rename_files_with_metadata(PHOTO_FOLDER_PATH)"
   ]
  }
 ],
 "metadata": {
  "kernelspec": {
   "display_name": "skin-project",
   "language": "python",
   "name": "python3"
  },
  "language_info": {
   "codemirror_mode": {
    "name": "ipython",
    "version": 3
   },
   "file_extension": ".py",
   "mimetype": "text/x-python",
   "name": "python",
   "nbconvert_exporter": "python",
   "pygments_lexer": "ipython3",
   "version": "3.10.13"
  }
 },
 "nbformat": 4,
 "nbformat_minor": 2
}
