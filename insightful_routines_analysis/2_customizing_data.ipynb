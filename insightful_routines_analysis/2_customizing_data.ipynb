{
 "cells": [
  {
   "cell_type": "code",
   "execution_count": 1,
   "metadata": {},
   "outputs": [],
   "source": [
    "import pandas as pd\n",
    "import json\n",
    "import csv\n",
    "\n",
    "from config import PATH_TO_CSV"
   ]
  },
  {
   "cell_type": "code",
   "execution_count": 2,
   "metadata": {},
   "outputs": [],
   "source": [
    "df = pd.read_csv(PATH_TO_CSV)"
   ]
  },
  {
   "cell_type": "code",
   "execution_count": null,
   "metadata": {},
   "outputs": [],
   "source": [
    "df = df.loc[:, ~df.columns.str.contains(r'_[0-9]+$')]\n",
    "df.columns"
   ]
  },
  {
   "cell_type": "code",
   "execution_count": 4,
   "metadata": {},
   "outputs": [],
   "source": [
    "drop_colmns = ['id', 'user_id', 'photo_left', 'photo_right', 'photo_full_face', 'username', 'chat_id', 'date_created', 'question_old', 'question_allergen', 'question_medicines', 'question_skin_type']\n",
    "df.drop(columns=drop_colmns, inplace=True)"
   ]
  },
  {
   "cell_type": "code",
   "execution_count": 5,
   "metadata": {},
   "outputs": [],
   "source": [
    "df.to_csv(\"data.csv\", index=False)"
   ]
  },
  {
   "cell_type": "code",
   "execution_count": null,
   "metadata": {},
   "outputs": [],
   "source": [
    "# Load the JSON data from the file\n",
    "with open(\"acne_detection_results.json\") as f:\n",
    "    data = json.load(f)\n",
    "\n",
    "# Initialize counts dictionary to store counts for each image\n",
    "counts = {}\n",
    "\n",
    "# Iterate through each key-value pair in the JSON data\n",
    "for key, value in data.items():\n",
    "    # Initialize count for the current image\n",
    "    class_probs_count = 0\n",
    "    # Iterate through each dictionary in the list\n",
    "    for item in value:\n",
    "        # Increment the count if \"class_probs\" exists\n",
    "        if \"class_probs\" in item:\n",
    "            class_probs_count += len(item[\"class_probs\"])\n",
    "    # Store the count for the current image\n",
    "    counts[key] = class_probs_count\n",
    "\n",
    "# Print the counts for each image\n",
    "for image_name, count in counts.items():\n",
    "    print(f\"Image: {image_name}, Total count of pimples: {count}\")\n",
    "\n",
    "# Write the summary to a CSV file\n",
    "with open(\"summary_file.csv\", \"w\", newline=\"\") as csvfile:\n",
    "    fieldnames = [\"image_name\", \"total_pimples\"]\n",
    "    writer = csv.DictWriter(csvfile, fieldnames=fieldnames)\n",
    "\n",
    "    writer.writeheader()\n",
    "    for image_name, count in counts.items():\n",
    "        writer.writerow({\"image_name\": image_name, \"total_pimples\": count})"
   ]
  },
  {
   "cell_type": "code",
   "execution_count": 7,
   "metadata": {},
   "outputs": [],
   "source": [
    "# Read the CSV file\n",
    "data = {}\n",
    "with open(\"summary_file.csv\", \"r\") as csvfile:\n",
    "    reader = csv.DictReader(csvfile)\n",
    "    for row in reader:\n",
    "        image_name = row[\"image_name\"].split(\"_\")[0]  # Extract date part\n",
    "        total_pimples = int(row[\"total_pimples\"])\n",
    "        if image_name in data:\n",
    "            data[image_name] += total_pimples\n",
    "        else:\n",
    "            data[image_name] = total_pimples\n",
    "\n",
    "# Write the merged summary to a new CSV file\n",
    "with open(\"merged_summary_file.csv\", \"w\", newline=\"\") as csvfile:\n",
    "    fieldnames = [\"image_name\", \"total_pimples\"]\n",
    "    writer = csv.DictWriter(csvfile, fieldnames=fieldnames)\n",
    "    writer.writeheader()\n",
    "    for image_name, total_pimples in data.items():\n",
    "        writer.writerow(\n",
    "            {\"image_name\": image_name, \"total_pimples\": total_pimples}\n",
    "        )"
   ]
  },
  {
   "cell_type": "code",
   "execution_count": 8,
   "metadata": {},
   "outputs": [],
   "source": [
    "# Read total class probabilities from 'merged_summary_file.csv' and store in a dictionary\n",
    "total_probs_by_date = {}\n",
    "with open(\"merged_summary_file.csv\", \"r\") as csvfile:\n",
    "    reader = csv.DictReader(csvfile)\n",
    "    for row in reader:\n",
    "        total_probs_by_date[row[\"image_name\"]] = row[\"total_pimples\"]\n",
    "\n",
    "# Read 'data.csv', add 'total_pimples' column, and write to a new file\n",
    "with open(\"data.csv\", \"r\") as csvfile:\n",
    "    reader = csv.DictReader(csvfile)\n",
    "    fieldnames = reader.fieldnames + [\"total_pimples\"]\n",
    "\n",
    "    with open(\"updated_data.csv\", \"w\", newline=\"\") as outfile:\n",
    "        writer = csv.DictWriter(outfile, fieldnames=fieldnames)\n",
    "        writer.writeheader()\n",
    "\n",
    "        for row in reader:\n",
    "            date = row[\"date\"]\n",
    "            total_probs = total_probs_by_date.get(date, 0)\n",
    "            row[\"total_pimples\"] = total_probs\n",
    "            writer.writerow(row)"
   ]
  },
  {
   "cell_type": "code",
   "execution_count": null,
   "metadata": {},
   "outputs": [],
   "source": [
    "data = pd.read_csv(\"updated_data.csv\")\n",
    "data.head(25)"
   ]
  },
  {
   "cell_type": "code",
   "execution_count": null,
   "metadata": {},
   "outputs": [],
   "source": [
    "df1 = data[[\"date\", \"total_pimples\", \"pimples\"]]\n",
    "\n",
    "# Convert 'Pimples' column to numeric (ignore errors for non-numeric values)\n",
    "df1[\"pimples\"] = pd.to_numeric(df1[\"pimples\"], errors=\"coerce\")\n",
    "\n",
    "# Iterate over the 'Pimples' column\n",
    "for i in range(1, len(df1) - 1):\n",
    "    if isinstance(df1.at[i, \"pimples\"], str):  # If the value is text\n",
    "        # Calculate the average of neighboring rows\n",
    "        avg_pimples = (df1.at[i - 1, \"pimples\"] + df1.at[i + 1, \"pimples\"]) / 2\n",
    "        df1.at[i, \"pimples\"] = avg_pimples\n",
    "\n",
    "# Replace '0' values in 'total_pimples' column with values from 'Pimples' column\n",
    "df1.loc[df1[\"total_pimples\"] == 0, \"total_pimples\"] = df1[\"pimples\"]\n",
    "\n",
    "# Calculate the average of non-zero values in the column\n",
    "average = df1.loc[df1[\"total_pimples\"] != 0, \"total_pimples\"].mean()\n",
    "\n",
    "# Replace '0' values with the calculated average\n",
    "df1[\"total_pimples\"].fillna(average, inplace=True)\n",
    "\n",
    "data[\"total_pimples\"] = df1[\"total_pimples\"].astype(int).shift(-1)\n",
    "data = data.drop(columns=[\"pimples\"])\n",
    "data.to_csv('data_with_pimples.csv', index=False)"
   ]
  }
 ],
 "metadata": {
  "kernelspec": {
   "display_name": "skin-project",
   "language": "python",
   "name": "python3"
  },
  "language_info": {
   "codemirror_mode": {
    "name": "ipython",
    "version": 3
   },
   "file_extension": ".py",
   "mimetype": "text/x-python",
   "name": "python",
   "nbconvert_exporter": "python",
   "pygments_lexer": "ipython3",
   "version": "3.10.13"
  },
  "orig_nbformat": 4
 },
 "nbformat": 4,
 "nbformat_minor": 2
}
