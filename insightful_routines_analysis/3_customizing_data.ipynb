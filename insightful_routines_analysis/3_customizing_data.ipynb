{
 "cells": [
  {
   "cell_type": "code",
   "execution_count": 17,
   "metadata": {},
   "outputs": [],
   "source": [
    "import pandas as pd\n",
    "import json\n",
    "import csv\n",
    "\n",
    "from config import PATH_TO_CSV"
   ]
  },
  {
   "cell_type": "code",
   "execution_count": 18,
   "metadata": {},
   "outputs": [],
   "source": [
    "df = pd.read_csv(PATH_TO_CSV)"
   ]
  },
  {
   "cell_type": "code",
   "execution_count": 19,
   "metadata": {},
   "outputs": [],
   "source": [
    "drop_colmns = [\n",
    "    \"Timestamp\",\n",
    "    \"Email Address\",\n",
    "    \"Your name is\",\n",
    "    \"When do you wake up?\",\n",
    "    \"What did you eat in the morning? (if you want to add photo)\",\n",
    "    \"What did you use in the morning? (if you want to add photo)\",\n",
    "    \"You can add a photo of your face (not required)\",\n",
    "    \"What did you eat for lunch? (if you want to add photo)\",\n",
    "    \"What did you eat in the evening? (if you want to add a photo)\",\n",
    "    \"What do you use in your evening skincare routine? (if you want to add a photo)\",\n",
    "    \"When did you go to bed?\",\n",
    "]\n",
    "\n",
    "df.drop(columns=drop_colmns, inplace=True)"
   ]
  },
  {
   "cell_type": "code",
   "execution_count": 20,
   "metadata": {},
   "outputs": [],
   "source": [
    "column_rename_map = {\n",
    "    # 'Timestamp': 'Timestamp',\n",
    "    # 'Email Address': 'Email',\n",
    "    # 'Your name is': 'Name',\n",
    "    \"Today is\": \"Today\",\n",
    "    # 'When do you wake up?': 'Wake Up Time',\n",
    "    \"What did you use in the morning? \": \"Morning Routine\",\n",
    "    # 'What did you use in the morning? (if you want to add photo)': 'Morning Routine Photo',\n",
    "    \"Did you use sunscreen?\": \"Sunscreen\",\n",
    "    \"How many pimples were on your face this morning?\": \"Pimples\",\n",
    "    # 'You can add a photo of your face (not required)': 'Face Photo',\n",
    "    \"Have you been drinking enough water? (+1.5 L.)\": \"Water Intake\",\n",
    "    \"Have you been drinking tea? (in OTHER how many cups, not required)\": \"Tea Intake\",\n",
    "    \"Have you been drinking coffee? (in OTHER how many cups, not required)\": \"Coffee Intake\",\n",
    "    \"Have you been drinking milk? (in OTHER type of milk, not required)\": \"Milk Intake\",\n",
    "    \"Have you been drinking other types of drinks? (in OTHER type of drink, not required)\": \"Other Drinks Intake\",\n",
    "    \"Breakfast \\nHave you been eating some food that includes these ingredients? (in OTHER type of food, not required)\": \"Breakfast Food\",\n",
    "    # 'What did you eat in the morning? (if you want to add photo)': 'Breakfast Photo',\n",
    "    \"Lunch\\nHave you been eating some food that includes these ingredients? (in OTHER type of food, not required)\": \"Lunch Food\",\n",
    "    # 'What did you eat for lunch? (if you want to add photo)': 'Lunch Photo',\n",
    "    \"Dinner\\nHave you been eating some food that includes these ingredients? (in OTHER type of food, not required)\": \"Dinner Food\",\n",
    "    # 'What did you eat in the evening? (if you want to add a photo)': 'Dinner Photo',\n",
    "    \"Did you have any snacks?(in OTHER type of food, not required)\": \"Snacks\",\n",
    "    \"Did you take any supplements due day? \": \"Supplements\",\n",
    "    \"Did you have a stress? \": \"Stress\",\n",
    "    \"What was your physical activity?  (in other type or how many steps or both) \": \"Physical Activity\",\n",
    "    \"What do you use in your evening skincare routine?\": \"Evening Skincare\",\n",
    "    # 'What do you use in your evening skincare routine? (if you want to add a photo)': 'Evening Skincare Photo',\n",
    "    \"Did you use a mask?\": \"Mask\",\n",
    "    # 'When did you go to bed?': 'Bedtime'\n",
    "}"
   ]
  },
  {
   "cell_type": "code",
   "execution_count": 21,
   "metadata": {},
   "outputs": [],
   "source": [
    "df.rename(columns=column_rename_map, inplace=True)\n",
    "df[\"Today\"] = pd.to_datetime(df[\"Today\"])\n",
    "df[\"Today\"] = df[\"Today\"].dt.strftime(\"%Y%m%d\")\n",
    "\n",
    "df.to_csv(\"data.csv\", index=False)"
   ]
  },
  {
   "cell_type": "code",
   "execution_count": null,
   "metadata": {},
   "outputs": [],
   "source": [
    "# Load the JSON data from the file\n",
    "with open(\"acne_detection_results.json\") as f:\n",
    "    data = json.load(f)\n",
    "\n",
    "# Initialize counts dictionary to store counts for each image\n",
    "counts = {}\n",
    "\n",
    "# Iterate through each key-value pair in the JSON data\n",
    "for key, value in data.items():\n",
    "    # Initialize count for the current image\n",
    "    class_probs_count = 0\n",
    "    # Iterate through each dictionary in the list\n",
    "    for item in value:\n",
    "        # Increment the count if \"class_probs\" exists\n",
    "        if \"class_probs\" in item:\n",
    "            class_probs_count += len(item[\"class_probs\"])\n",
    "    # Store the count for the current image\n",
    "    counts[key] = class_probs_count\n",
    "\n",
    "# Print the counts for each image\n",
    "for image_name, count in counts.items():\n",
    "    print(f\"Image: {image_name}, Total count of pimples: {count}\")\n",
    "\n",
    "# Write the summary to a CSV file\n",
    "with open(\"summary_file.csv\", \"w\", newline=\"\") as csvfile:\n",
    "    fieldnames = [\"image_name\", \"total_pimples\"]\n",
    "    writer = csv.DictWriter(csvfile, fieldnames=fieldnames)\n",
    "\n",
    "    writer.writeheader()\n",
    "    for image_name, count in counts.items():\n",
    "        writer.writerow({\"image_name\": image_name, \"total_pimples\": count})"
   ]
  },
  {
   "cell_type": "code",
   "execution_count": 23,
   "metadata": {},
   "outputs": [],
   "source": [
    "# Read the CSV file\n",
    "data = {}\n",
    "with open(\"summary_file.csv\", \"r\") as csvfile:\n",
    "    reader = csv.DictReader(csvfile)\n",
    "    for row in reader:\n",
    "        image_name = row[\"image_name\"].split(\"_\")[0]  # Extract date part\n",
    "        total_pimples = int(row[\"total_pimples\"])\n",
    "        if image_name in data:\n",
    "            data[image_name] += total_pimples\n",
    "        else:\n",
    "            data[image_name] = total_pimples\n",
    "\n",
    "# Write the merged summary to a new CSV file\n",
    "with open(\"merged_summary_file.csv\", \"w\", newline=\"\") as csvfile:\n",
    "    fieldnames = [\"image_name\", \"total_pimples\"]\n",
    "    writer = csv.DictWriter(csvfile, fieldnames=fieldnames)\n",
    "    writer.writeheader()\n",
    "    for image_name, total_pimples in data.items():\n",
    "        writer.writerow(\n",
    "            {\"image_name\": image_name, \"total_pimples\": total_pimples}\n",
    "        )"
   ]
  },
  {
   "cell_type": "code",
   "execution_count": 24,
   "metadata": {},
   "outputs": [],
   "source": [
    "# Read total class probabilities from 'merged_summary_file.csv' and store in a dictionary\n",
    "total_probs_by_date = {}\n",
    "with open(\"merged_summary_file.csv\", \"r\") as csvfile:\n",
    "    reader = csv.DictReader(csvfile)\n",
    "    for row in reader:\n",
    "        total_probs_by_date[row[\"image_name\"]] = row[\"total_pimples\"]\n",
    "\n",
    "# Read 'data.csv', add 'total_pimples' column, and write to a new file\n",
    "with open(\"data.csv\", \"r\") as csvfile:\n",
    "    reader = csv.DictReader(csvfile)\n",
    "    fieldnames = reader.fieldnames + [\"total_pimples\"]\n",
    "\n",
    "    with open(\"updated_data.csv\", \"w\", newline=\"\") as outfile:\n",
    "        writer = csv.DictWriter(outfile, fieldnames=fieldnames)\n",
    "        writer.writeheader()\n",
    "\n",
    "        for row in reader:\n",
    "            date = row[\"Today\"]\n",
    "            total_probs = total_probs_by_date.get(date, 0)\n",
    "            row[\"total_pimples\"] = total_probs\n",
    "            writer.writerow(row)"
   ]
  },
  {
   "cell_type": "code",
   "execution_count": null,
   "metadata": {},
   "outputs": [],
   "source": [
    "data = pd.read_csv(\"updated_data.csv\")\n",
    "data.head(25)"
   ]
  },
  {
   "cell_type": "code",
   "execution_count": null,
   "metadata": {},
   "outputs": [],
   "source": [
    "df1 = data[[\"Today\", \"total_pimples\", \"Pimples\"]]\n",
    "\n",
    "# Convert 'Pimples' column to numeric (ignore errors for non-numeric values)\n",
    "df1[\"Pimples\"] = pd.to_numeric(df1[\"Pimples\"], errors=\"coerce\")\n",
    "\n",
    "# Iterate over the 'Pimples' column\n",
    "for i in range(1, len(df1) - 1):\n",
    "    if isinstance(df1.at[i, \"Pimples\"], str):  # If the value is text\n",
    "        # Calculate the average of neighboring rows\n",
    "        avg_pimples = (df1.at[i - 1, \"Pimples\"] + df1.at[i + 1, \"Pimples\"]) / 2\n",
    "        df1.at[i, \"Pimples\"] = avg_pimples\n",
    "\n",
    "# Replace '0' values in 'total_pimples' column with values from 'Pimples' column\n",
    "df1.loc[df1[\"total_pimples\"] == 0, \"total_pimples\"] = df1[\"Pimples\"]\n",
    "\n",
    "# Calculate the average of non-zero values in the column\n",
    "average = df1.loc[df1[\"total_pimples\"] != 0, \"total_pimples\"].mean()\n",
    "\n",
    "# Replace '0' values with the calculated average\n",
    "df1[\"total_pimples\"].fillna(average, inplace=True)\n",
    "\n",
    "data[\"total_pimples\"] = df1[\"total_pimples\"].astype(int).shift(-1)\n",
    "data = data.drop(columns=[\"Pimples\"])\n",
    "data.to_csv('data_with_pimples.csv', index=False)"
   ]
  }
 ],
 "metadata": {
  "kernelspec": {
   "display_name": "skin-project",
   "language": "python",
   "name": "python3"
  },
  "language_info": {
   "codemirror_mode": {
    "name": "ipython",
    "version": 3
   },
   "file_extension": ".py",
   "mimetype": "text/x-python",
   "name": "python",
   "nbconvert_exporter": "python",
   "pygments_lexer": "ipython3",
   "version": "3.10.13"
  },
  "orig_nbformat": 4
 },
 "nbformat": 4,
 "nbformat_minor": 2
}
