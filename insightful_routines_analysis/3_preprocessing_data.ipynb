{
 "cells": [
  {
   "cell_type": "code",
   "execution_count": null,
   "metadata": {},
   "outputs": [],
   "source": [
    "import polars as pl\n",
    "from collections import Counter"
   ]
  },
  {
   "cell_type": "code",
   "execution_count": null,
   "metadata": {},
   "outputs": [],
   "source": [
    "df = pl.read_csv('data_with_pimples.csv')\n",
    "df.columns"
   ]
  },
  {
   "cell_type": "code",
   "execution_count": null,
   "metadata": {},
   "outputs": [],
   "source": [
    "df_food = df.select(['breakfast', 'lunch', 'dinner'])\n",
    "df = df.drop(['breakfast', 'lunch', 'dinner'])\n",
    "food_list = [\n",
    "    'red food',\n",
    "    'greens',\n",
    "    'red meat',\n",
    "    'white meat',\n",
    "    'fish',\n",
    "    'seafood',\n",
    "    'gluten',\n",
    "    'starch',\n",
    "    'lactose',\n",
    "    'other type of sugar',\n",
    "    'nightshade',\n",
    "    'white sugar',\n",
    "    'sweetener',\n",
    "    'mushrooms',\n",
    "    'fruits',\n",
    "    'sweets',\n",
    "    'eggs',\n",
    "    'nothing',\n",
    "]"
   ]
  },
  {
   "cell_type": "code",
   "execution_count": null,
   "metadata": {},
   "outputs": [],
   "source": [
    "def count_repeated_items(df, known_items):\n",
    "    def count_row(row):\n",
    "        row_counter = Counter()\n",
    "        for item in row:\n",
    "            words = str(item).split(', ')\n",
    "            for word in words:\n",
    "                if word not in known_items:\n",
    "                    row_counter['others'] += 1\n",
    "                else:\n",
    "                    row_counter[word] += 1\n",
    "        return [row_counter.get(item, 0) for item in known_items + ['others']]\n",
    "\n",
    "    # Apply the count_row function to each row\n",
    "    counts = df.select(pl.struct(df.columns).map_elements(count_row, return_dtype = pl.List(pl.Int64)))\n",
    "\n",
    "    # Create a new DataFrame with the counts\n",
    "    counts_df = pl.DataFrame(\n",
    "        counts.to_series().to_list(),\n",
    "        schema=known_items + ['others']\n",
    "    )\n",
    "\n",
    "    return counts_df\n",
    "\n",
    "# Assuming food_list is defined\n",
    "counts_food = count_repeated_items(df_food, food_list)\n",
    "\n",
    "# Concatenate the original df with counts_food\n",
    "df = pl.concat([df, counts_food], how='horizontal')"
   ]
  },
  {
   "cell_type": "code",
   "execution_count": null,
   "metadata": {},
   "outputs": [],
   "source": [
    "def categorize_column(df, column_name, keywords_list, prefix='', other_col=''):\n",
    "    # Define a function to check if a keyword is in a given item\n",
    "    def check_keyword(item, keyword):\n",
    "        return keyword in item\n",
    "\n",
    "    # Iterate over each keyword and create a new column\n",
    "    for keyword in keywords_list:\n",
    "        if keyword != 'Other:':\n",
    "            new_column_name = prefix + keyword.replace(' ', '-')\n",
    "            df = df.with_columns(\n",
    "                (pl.col(column_name).map_elements(lambda x: check_keyword(x, keyword), return_dtype=pl.Boolean)).alias(new_column_name)\n",
    "            )\n",
    "\n",
    "    # Add a column for items that do not match any keyword\n",
    "    df = df.with_columns(\n",
    "        pl.col(column_name).map_elements(lambda x: not any(check_keyword(x, keyword) for keyword in keywords_list), return_dtype=pl.Boolean).alias(other_col)\n",
    "    )\n",
    "\n",
    "    # Drop the original column\n",
    "    df = df.drop(column_name)\n",
    "\n",
    "    return df\n"
   ]
  },
  {
   "cell_type": "code",
   "execution_count": null,
   "metadata": {},
   "outputs": [],
   "source": [
    "skincare = [\n",
    "    \"cleaner\",\n",
    "    \"tonic\",\n",
    "    \"serum\",\n",
    "    \"eye cream\",\n",
    "    \"cream\",\n",
    "    \"patch\",\n",
    "    \"eye patchs\",\n",
    "    \"sunscreen\",\n",
    "    \"pilling\",\n",
    "    \"scrub\",\n",
    "    \"spot cream\",\n",
    "    \"mask\",\n",
    "    \"skin picking(\",\n",
    "    \"nothing\",\n",
    "]\n",
    "\n",
    "df = categorize_column(df, 'morning_skincare', skincare, prefix='morning_skincare - ')\n",
    "df = categorize_column(df, 'evening_skincare', skincare, prefix= 'evening_skincare - ')"
   ]
  },
  {
   "cell_type": "code",
   "execution_count": null,
   "metadata": {},
   "outputs": [],
   "source": [
    "drinks = [\n",
    "    'alcohol',\n",
    "    'energy drink',\n",
    "    'juice',\n",
    "    'soft drink',\n",
    "    'sparkling mineral water',\n",
    "    'no',\n",
    "]\n",
    "\n",
    "df = categorize_column(df, 'other_drinks', drinks, prefix= 'other_drinks - ')"
   ]
  },
  {
   "cell_type": "code",
   "execution_count": null,
   "metadata": {},
   "outputs": [],
   "source": [
    "milk = [\n",
    "    'yes, cow',\n",
    "    'yes, lactose free',\n",
    "    'yes, alternative',\n",
    "    'no',\n",
    "]\n",
    "\n",
    "df = categorize_column(df, 'milk_drinks', milk, prefix= 'milk_drinks - ')"
   ]
  },
  {
   "cell_type": "code",
   "execution_count": null,
   "metadata": {},
   "outputs": [],
   "source": [
    "hot_drinks = [\n",
    "    'green tea',\n",
    "    'black tea',\n",
    "    'coffee',\n",
    "    'herbal tea',\n",
    "    'other',\n",
    "    'no',\n",
    "]\n",
    "\n",
    "df = categorize_column(df, 'hot_drinks', hot_drinks, prefix= 'hot_drinks - ')"
   ]
  },
  {
   "cell_type": "code",
   "execution_count": null,
   "metadata": {},
   "outputs": [],
   "source": [
    "df = df.drop('date')\n",
    "df = df.with_columns(\n",
    "    pl.col('total_pimples').fill_null(0)\n",
    ")"
   ]
  },
  {
   "cell_type": "markdown",
   "metadata": {},
   "source": [
    "Since Polars doesn't have a built-in ordinal encoder like scikit-learn, we will implement a custom ordinal encoding function using Polars functionalities.\n",
    "The function will apply encoding to specified columns and update the DataFrame."
   ]
  },
  {
   "cell_type": "code",
   "execution_count": null,
   "metadata": {},
   "outputs": [],
   "source": [
    "def to_ordinal_encoder(df, columns):\n",
    "    for column in columns:\n",
    "        unique_values = df[column].unique().to_list()\n",
    "        value_to_ordinal = {value: idx for idx, value in enumerate(unique_values)}\n",
    "\n",
    "        # Create a new column with encoded values\n",
    "        df = df.with_columns(\n",
    "            df[column].replace(value_to_ordinal).alias(column)\n",
    "        )\n",
    "    return df"
   ]
  },
  {
   "cell_type": "code",
   "execution_count": null,
   "metadata": {},
   "outputs": [],
   "source": [
    "encode_columns = ['snacks', 'stress', 'supplements', 'water', 'workouts']"
   ]
  },
  {
   "cell_type": "code",
   "execution_count": null,
   "metadata": {},
   "outputs": [],
   "source": [
    "to_ordinal_encoder(df, encode_columns)"
   ]
  },
  {
   "cell_type": "code",
   "execution_count": null,
   "metadata": {},
   "outputs": [],
   "source": [
    "# Identify boolean columns\n",
    "bool_columns = [col for col, dtype in df.schema.items() if dtype == pl.Boolean]\n",
    "\n",
    "# Identify float columns\n",
    "float_columns = [col for col, dtype in df.schema.items() if dtype == pl.Float32]\n",
    "\n",
    "\n",
    "# Convert boolean columns to integers (0 and 1)\n",
    "bool_columns_exprs = [pl.col(col).cast(pl.Int32).alias(col) for col in bool_columns]\n",
    "\n",
    "# Convert float columns to integers\n",
    "float_columns_exprs = [pl.col(col).cast(pl.Int32).alias(col) for col in float_columns]\n",
    "\n",
    "# Apply the transformations to the DataFrame\n",
    "df = df.with_columns(bool_columns_exprs + float_columns_exprs)\n"
   ]
  },
  {
   "cell_type": "code",
   "execution_count": null,
   "metadata": {},
   "outputs": [],
   "source": [
    "df.write_csv(\"data_full.csv\")\n",
    "df"
   ]
  }
 ],
 "metadata": {
  "kernelspec": {
   "display_name": "skin-project",
   "language": "python",
   "name": "python3"
  },
  "language_info": {
   "codemirror_mode": {
    "name": "ipython",
    "version": 3
   },
   "file_extension": ".py",
   "mimetype": "text/x-python",
   "name": "python",
   "nbconvert_exporter": "python",
   "pygments_lexer": "ipython3",
   "version": "3.10.13"
  }
 },
 "nbformat": 4,
 "nbformat_minor": 2
}
