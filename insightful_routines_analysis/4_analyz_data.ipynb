{
 "cells": [
  {
   "cell_type": "code",
   "execution_count": null,
   "metadata": {},
   "outputs": [],
   "source": [
    "import polars as pl\n",
    "from scipy.stats import pearsonr, stats"
   ]
  },
  {
   "cell_type": "code",
   "execution_count": null,
   "metadata": {},
   "outputs": [],
   "source": [
    "df = pl.read_csv(\"data_full.csv\")"
   ]
  },
  {
   "cell_type": "code",
   "execution_count": null,
   "metadata": {},
   "outputs": [],
   "source": [
    "# Identify numerical columns\n",
    "numerical_columns = [col for col, dtype in df.schema.items() if dtype in [pl.Int64, pl.Float64]]\n",
    "\n",
    "# Dictionary to store correlation results\n",
    "correlation_results = {}\n",
    "\n",
    "# Calculate correlations\n",
    "for column in numerical_columns:\n",
    "    if column != 'total_pimples':  # Avoid self-correlation\n",
    "        # Extract the column data as lists\n",
    "        col_data = df[column].to_list()\n",
    "        pimples_data = df['total_pimples'].to_list()\n",
    "        \n",
    "        # Calculate Pearson correlation\n",
    "        correlation_coef, p_value = stats.pearsonr(col_data, pimples_data)\n",
    "        correlation_results[column] = {'correlation_coef': correlation_coef, 'p_value': p_value}\n",
    "\n",
    "# Sort results by p-value in descending order\n",
    "sorted_results = sorted(correlation_results.items(), key=lambda x: x[1]['p_value'], reverse=True)\n",
    "\n",
    "# Print sorted results\n",
    "for column, result in sorted_results:\n",
    "    print(f\"Column: {column}, Correlation Coefficient: {result['correlation_coef']:.4f}, p-value: {result['p_value']:.4f}\")\n"
   ]
  },
  {
   "cell_type": "code",
   "execution_count": null,
   "metadata": {},
   "outputs": [],
   "source": [
    "# Function to calculate Pearson correlation coefficient\n",
    "def calculate_pearson_correlation(x, y):\n",
    "    correlation_coef, _ = pearsonr(x, y)\n",
    "    return correlation_coef\n",
    "\n",
    "# Calculate Pearson correlation coefficients with total_pimples\n",
    "correlation_results = {}\n",
    "for column in df.columns:\n",
    "    if column != 'total_pimples' and df[column].dtype in [pl.Int64, pl.Float64]:\n",
    "        correlation_coef = calculate_pearson_correlation(df[column].to_list(), df['total_pimples'].to_list())\n",
    "        correlation_results[column] = correlation_coef\n",
    "\n",
    "# Sort correlation results in descending order of absolute values\n",
    "sorted_results = sorted(correlation_results.items(), key=lambda x: abs(x[1]), reverse=True)\n",
    "\n",
    "# Print sorted results\n",
    "print(\"Correlation with total_pimples:\")\n",
    "for column, correlation_coef in sorted_results:\n",
    "    print(f\"Column: {column}, Correlation Coefficient: {correlation_coef:.4f}\")"
   ]
  }
 ],
 "metadata": {
  "kernelspec": {
   "display_name": "skin-project",
   "language": "python",
   "name": "python3"
  },
  "language_info": {
   "codemirror_mode": {
    "name": "ipython",
    "version": 3
   },
   "file_extension": ".py",
   "mimetype": "text/x-python",
   "name": "python",
   "nbconvert_exporter": "python",
   "pygments_lexer": "ipython3",
   "version": "3.10.13"
  }
 },
 "nbformat": 4,
 "nbformat_minor": 2
}
