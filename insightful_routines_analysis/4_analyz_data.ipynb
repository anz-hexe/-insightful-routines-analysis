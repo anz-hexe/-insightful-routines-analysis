{
 "cells": [
  {
   "cell_type": "code",
   "execution_count": 1,
   "metadata": {},
   "outputs": [],
   "source": [
    "import pandas as pd\n",
    "import scipy.stats as stats\n"
   ]
  },
  {
   "cell_type": "code",
   "execution_count": 2,
   "metadata": {},
   "outputs": [],
   "source": [
    "data = pd.read_csv(\"data_full.csv\")"
   ]
  },
  {
   "cell_type": "code",
   "execution_count": null,
   "metadata": {},
   "outputs": [],
   "source": [
    "numerical_columns = data.select_dtypes(include=['int', 'float']).columns\n",
    "\n",
    "correlation_results = {}\n",
    "for column in numerical_columns:\n",
    "    correlation_coef, p_value = stats.pearsonr(data[column], data['total_pimples'])\n",
    "    correlation_results[column] = {'correlation_coef': correlation_coef, 'p_value': p_value}\n",
    "\n",
    "sorted_results = sorted(correlation_results.items(), key=lambda x: x[1]['p_value'], reverse=True)\n",
    "for column, result in sorted_results:\n",
    "    print(f\"Column: {column}, Correlation Coefficient: {result['correlation_coef']}, p-value: {result['p_value']}\")"
   ]
  },
  {
   "cell_type": "code",
   "execution_count": null,
   "metadata": {},
   "outputs": [],
   "source": [
    "correlation = data.corr()[\"total_pimples\"].sort_values(ascending=False)\n",
    "\n",
    "print(\"Correlation with total_pimples:\\n\", correlation)"
   ]
  }
 ],
 "metadata": {
  "kernelspec": {
   "display_name": "skin-project",
   "language": "python",
   "name": "python3"
  },
  "language_info": {
   "codemirror_mode": {
    "name": "ipython",
    "version": 3
   },
   "file_extension": ".py",
   "mimetype": "text/x-python",
   "name": "python",
   "nbconvert_exporter": "python",
   "pygments_lexer": "ipython3",
   "version": "3.10.13"
  }
 },
 "nbformat": 4,
 "nbformat_minor": 2
}
