{
 "cells": [
  {
   "cell_type": "code",
   "execution_count": 15,
   "metadata": {},
   "outputs": [],
   "source": [
    "import pandas as pd\n",
    "from collections import Counter"
   ]
  },
  {
   "cell_type": "code",
   "execution_count": 16,
   "metadata": {},
   "outputs": [],
   "source": [
    "df = pd.read_csv('data_with_pimples.csv')"
   ]
  },
  {
   "cell_type": "code",
   "execution_count": 17,
   "metadata": {},
   "outputs": [],
   "source": [
    "df_food = df[['Breakfast Food', 'Lunch Food', 'Dinner Food']]\n",
    "df = df.drop(columns=['Breakfast Food', 'Lunch Food', 'Dinner Food'])\n",
    "food_list = [\n",
    "    'red food',\n",
    "    'greens',\n",
    "    'red meet',\n",
    "    'white meet',\n",
    "    'fish',\n",
    "    'seafood',\n",
    "    'gluten',\n",
    "    'starch',\n",
    "    'lactose',\n",
    "    'other type of sugar',\n",
    "    'nightshade (tomatoes, potatoes, eggplant, peppers)',\n",
    "    'white sugar',\n",
    "    'sweetener',\n",
    "    'mushrooms',\n",
    "    'fruits',\n",
    "    'sweets',\n",
    "]"
   ]
  },
  {
   "cell_type": "code",
   "execution_count": 18,
   "metadata": {},
   "outputs": [],
   "source": [
    "def count_repeated_items(df, known_items):\n",
    "\n",
    "    word_counts = []\n",
    "\n",
    "    # Process each row in the DataFrame\n",
    "    for index, row in df.iterrows():\n",
    "        row_counter = Counter()\n",
    "        for item in row:\n",
    "            # Ensure the item is treated as a string\n",
    "            words = str(item).split(', ')\n",
    "            for word in words:\n",
    "                # Count as 'Others' if not in known_foods\n",
    "                if word not in known_items:\n",
    "                    row_counter['others'] += 1\n",
    "                else:\n",
    "                    row_counter[word] += 1\n",
    "        # Appending the count of each word or 'Others' for the current row to the word_counts list\n",
    "        word_counts.append([row_counter.get(item, 0) for item in known_items + ['others']])\n",
    "\n",
    "    # Creating a new DataFrame to hold the counts\n",
    "    counts_df = pd.DataFrame(word_counts, columns=known_items + ['others'])\n",
    "\n",
    "    return counts_df\n",
    "\n",
    "counts_food = count_repeated_items(df_food, food_list)\n",
    "df = pd.concat([df, counts_food], axis=1)"
   ]
  },
  {
   "cell_type": "code",
   "execution_count": 19,
   "metadata": {},
   "outputs": [],
   "source": [
    "def categorize_column(df, column_name, list, prefix='', other_col=''):\n",
    "    def check_keyword(item, keyword):\n",
    "        return keyword in item\n",
    "\n",
    "    for items_in_list in list:\n",
    "        if items_in_list != 'Other:':\n",
    "            new_column_name = prefix + items_in_list.replace(' ', '-')\n",
    "            df[new_column_name] = df[column_name].apply(\n",
    "                lambda x: check_keyword(x, items_in_list))\n",
    "\n",
    "    # Add 'prefix-Other:' column\n",
    "    df[other_col] = df[column_name].apply(lambda x: not any(\n",
    "        check_keyword(x, items_in_list) for items_in_list in list))\n",
    "    \n",
    "    df = df.drop(columns=[column_name])\n",
    "\n",
    "    return df\n"
   ]
  },
  {
   "cell_type": "code",
   "execution_count": 20,
   "metadata": {},
   "outputs": [],
   "source": [
    "skincare = [\n",
    "    \"cleaner\",\n",
    "    \"tonic\",\n",
    "    \"cream\",\n",
    "    \"serum\"\n",
    "]\n",
    "\n",
    "df = categorize_column(df, 'Morning Routine', skincare, prefix='morning_skincare - ', other_col='morning_skincare_other')\n",
    "df = categorize_column(df, 'Evening Skincare', skincare, prefix= 'evening_skincare - ', other_col='evening_skincare_other')"
   ]
  },
  {
   "cell_type": "code",
   "execution_count": 21,
   "metadata": {},
   "outputs": [],
   "source": [
    "drinks = [\n",
    "    'alcohol',\n",
    "    'sparkling mineral water',\n",
    "    'soda water (cola/pepsi/fanta/schweppes/other)',\n",
    "    'no'\n",
    "]\n",
    "\n",
    "df = categorize_column(df, 'Other Drinks Intake', drinks, prefix= 'other_drinks - ', other_col='anther_drinks')"
   ]
  },
  {
   "cell_type": "code",
   "execution_count": 22,
   "metadata": {},
   "outputs": [],
   "source": [
    "df = df.drop(columns=\"Today\")\n",
    "df['total_pimples'] = df['total_pimples'].fillna(0)"
   ]
  },
  {
   "cell_type": "code",
   "execution_count": 23,
   "metadata": {},
   "outputs": [],
   "source": [
    "from sklearn.preprocessing import OrdinalEncoder\n",
    "\n",
    "encoderOrdinalEncoder = OrdinalEncoder()\n",
    "\n",
    "def to_ordinal_encoder(df, encoder, columns):\n",
    "\n",
    "    encoded_data = encoder.fit_transform(df[columns])\n",
    "\n",
    "    encoded_df = pd.DataFrame(encoded_data, columns=columns)\n",
    "\n",
    "    for column in columns:\n",
    "        df[column] = encoded_df[column]\n",
    "    return df"
   ]
  },
  {
   "cell_type": "code",
   "execution_count": 24,
   "metadata": {},
   "outputs": [],
   "source": [
    "encode_columns = [\n",
    "    'Sunscreen', 'Water Intake', 'Tea Intake', 'Coffee Intake',\n",
    "    'Milk Intake', 'Snacks', 'Supplements', 'Stress', 'Physical Activity',\n",
    "    'Mask'\n",
    "]"
   ]
  },
  {
   "cell_type": "code",
   "execution_count": null,
   "metadata": {},
   "outputs": [],
   "source": [
    "to_ordinal_encoder(df, encoderOrdinalEncoder, encode_columns)"
   ]
  },
  {
   "cell_type": "code",
   "execution_count": 26,
   "metadata": {},
   "outputs": [],
   "source": [
    "# Convert boolean to numerical (False=0, True=1)\n",
    "bool_columns = df.columns[df.dtypes == 'bool']\n",
    "float_columns = df.columns[df.dtypes == 'float']\n",
    "df[bool_columns] = df[bool_columns].astype(int)\n",
    "df[float_columns] = df[float_columns].astype(int)"
   ]
  },
  {
   "cell_type": "code",
   "execution_count": 27,
   "metadata": {},
   "outputs": [],
   "source": [
    "df.to_csv(\"data_full.csv\", index=False)"
   ]
  }
 ],
 "metadata": {
  "kernelspec": {
   "display_name": "skin-project",
   "language": "python",
   "name": "python3"
  },
  "language_info": {
   "codemirror_mode": {
    "name": "ipython",
    "version": 3
   },
   "file_extension": ".py",
   "mimetype": "text/x-python",
   "name": "python",
   "nbconvert_exporter": "python",
   "pygments_lexer": "ipython3",
   "version": "3.10.13"
  }
 },
 "nbformat": 4,
 "nbformat_minor": 2
}
