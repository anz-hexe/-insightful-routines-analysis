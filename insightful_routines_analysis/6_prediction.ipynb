{
 "cells": [
  {
   "cell_type": "code",
   "execution_count": null,
   "metadata": {},
   "outputs": [],
   "source": [
    "import pandas as pd\n",
    "import optuna\n",
    "\n",
    "from sklearn.model_selection import train_test_split\n",
    "from sklearn.ensemble import RandomForestRegressor\n",
    "from sklearn.metrics import mean_squared_error"
   ]
  },
  {
   "cell_type": "code",
   "execution_count": 2,
   "metadata": {},
   "outputs": [],
   "source": [
    "data = pd.read_csv(\"data_full.csv\")"
   ]
  },
  {
   "cell_type": "code",
   "execution_count": 3,
   "metadata": {},
   "outputs": [],
   "source": [
    "X = data.drop(columns=['total_pimples'])\n",
    "y = data['total_pimples']"
   ]
  },
  {
   "cell_type": "code",
   "execution_count": 7,
   "metadata": {},
   "outputs": [],
   "source": [
    "# def objective(trial):\n",
    "#     n_estimators = trial.suggest_int('n_estimators', 100, 1000)\n",
    "#     max_depth = trial.suggest_int('max_depth', 10, 50)\n",
    "#     min_samples_split = trial.suggest_int('min_samples_split', 2, 32)\n",
    "#     min_samples_leaf = trial.suggest_int('min_samples_leaf', 1, 32)\n",
    "#     max_features = trial.suggest_categorical('max_features', ['sqrt', 'log2'])\n",
    "#     criterion = trial.suggest_categorical('criterion', [\"squared_error\", \"absolute_error\", \"friedman_mse\", \"poisson\"])\n",
    "\n",
    "#     model = RandomForestRegressor(\n",
    "#         n_estimators=n_estimators,\n",
    "#         max_depth=max_depth,\n",
    "#         min_samples_split=min_samples_split,\n",
    "#         min_samples_leaf=min_samples_leaf,\n",
    "#         max_features=max_features,\n",
    "#         criterion=criterion,\n",
    "#         random_state= 21\n",
    "#     )\n",
    "\n",
    "#     model.fit(X_train, y_train)\n",
    "#     y_pred = model.predict(X_test)\n",
    "\n",
    "#     # metric  to optimize\n",
    "#     score = mean_squared_error(y_test, y_pred)\n",
    "    \n",
    "#     return score\n",
    "\n",
    "# study = optuna.create_study(direction='minimize', sampler=optuna.samplers.RandomSampler(seed=42))\n",
    "# study.optimize(objective, n_trials=500)\n",
    "\n",
    "# # Print the best parameters found \n",
    "# print(\"Best trial:\")\n",
    "# trial = study.best_trial\n",
    "\n",
    "# print(\"Value: {:.4f}\".format(trial.value))\n",
    "\n",
    "# print(\"Params: \")\n",
    "# for key, value in trial.params.items():\n",
    "#     print(\"    {}: {}\".format(key, value))\n",
    "\n",
    "\"\"\"\n",
    "    Best trial:\n",
    "    Value: 2.6245\n",
    "    Params: \n",
    "        n_estimators: 366\n",
    "        max_depth: 19\n",
    "        min_samples_split: 3\n",
    "        min_samples_leaf: 1\n",
    "        max_features: sqrt\n",
    "        criterion: poisson\n",
    "\"\"\"\n",
    "\n",
    "params = {'n_estimators': 366, 'max_depth': 19, 'min_samples_split': 3, 'min_samples_leaf': 1, 'max_features': 'sqrt', 'criterion': 'poisson'}"
   ]
  },
  {
   "cell_type": "code",
   "execution_count": null,
   "metadata": {},
   "outputs": [],
   "source": [
    "X_train, X_test, y_train, y_test = train_test_split(X, y, test_size=0.2, random_state=42)\n",
    "\n",
    "model = RandomForestRegressor(**params)\n",
    "\n",
    "model.fit(X_train, y_train)\n",
    "\n",
    "predictions = model.predict(X_test)\n",
    "\n",
    "# Evaluate the model\n",
    "mse = mean_squared_error(y_test, predictions)\n",
    "print(\"Mean Squared Error:\", mse)\n",
    "\n",
    "# Analyze feature importances\n",
    "feature_importances = model.feature_importances_\n",
    "print(\"Feature Importances:\", feature_importances)"
   ]
  }
 ],
 "metadata": {
  "kernelspec": {
   "display_name": "skin-project",
   "language": "python",
   "name": "python3"
  },
  "language_info": {
   "codemirror_mode": {
    "name": "ipython",
    "version": 3
   },
   "file_extension": ".py",
   "mimetype": "text/x-python",
   "name": "python",
   "nbconvert_exporter": "python",
   "pygments_lexer": "ipython3",
   "version": "3.10.13"
  }
 },
 "nbformat": 4,
 "nbformat_minor": 2
}
